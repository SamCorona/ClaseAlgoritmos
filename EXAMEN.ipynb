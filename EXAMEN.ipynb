{
 "cells": [
  {
   "cell_type": "code",
   "execution_count": null,
   "metadata": {
    "id": "NWzrXj9LSN2m"
   },
   "outputs": [],
   "source": [
    "AR=[]\n",
    "lar=50\n",
    "for i in range(0,51):\n",
    "  AR.append(int(input(\"Ingresa un numero cualquiera: \")))\n",
    "print(\" \")\n",
    "print(\"--ARREGLO SEGUN EL USUARIO--\")\n",
    "print(AR)\n",
    "print(\" \")\n",
    "for i in range(1,51):\n",
    "  for h in range(0,51-i):\n",
    "    if(AR[h]<AR[h+1]):\n",
    "      var=AR[h]\n",
    "      AR[h]=AR[h+1]\n",
    "      AR[h+1]=var\n",
    "print(\"--ARREGLO DE MAYOR A MENOR--\")\n",
    "print(AR)\n",
    "print(\" \")\n",
    "for i in range(0,26):\n",
    "  Var=AR[lar]\n",
    "  AR[lar]=AR[i]\n",
    "  AR[i]=Var\n",
    "  lar=lar-1\n",
    "print(\"--ARREGLO DE MENOR A MAYOR--\")\n",
    "print(AR)"
   ]
  }
 ],
 "metadata": {
  "colab": {
   "authorship_tag": "ABX9TyMyPH1tIFSjDh4ul2OqHBdU",
   "collapsed_sections": [],
   "name": "EXAMEN.ipynb",
   "provenance": []
  },
  "kernelspec": {
   "display_name": "Python 3 (ipykernel)",
   "language": "python",
   "name": "python3"
  },
  "language_info": {
   "codemirror_mode": {
    "name": "ipython",
    "version": 3
   },
   "file_extension": ".py",
   "mimetype": "text/x-python",
   "name": "python",
   "nbconvert_exporter": "python",
   "pygments_lexer": "ipython3",
   "version": "3.9.7"
  }
 },
 "nbformat": 4,
 "nbformat_minor": 1
}
