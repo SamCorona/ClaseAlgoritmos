{
  "nbformat": 4,
  "nbformat_minor": 0,
  "metadata": {
    "colab": {
      "name": "ArregloTabla.ipynb",
      "provenance": []
    },
    "kernelspec": {
      "name": "python3",
      "display_name": "Python 3"
    },
    "language_info": {
      "name": "python"
    }
  },
  "cells": [
    {
      "cell_type": "code",
      "execution_count": null,
      "metadata": {
        "colab": {
          "base_uri": "https://localhost:8080/"
        },
        "id": "W_7zUQpV7Ne3",
        "outputId": "36318f62-62e4-4a4f-edbc-7f88e17dd980"
      },
      "outputs": [
        {
          "output_type": "stream",
          "name": "stdout",
          "text": [
            "Ingresa la tabla a Guardar: \n",
            "5\n",
            "5 x 1 = 5\n",
            "5 x 2 = 10\n",
            "5 x 3 = 15\n",
            "5 x 4 = 20\n",
            "5 x 5 = 25\n",
            "5 x 6 = 30\n",
            "5 x 7 = 35\n",
            "5 x 8 = 40\n",
            "5 x 9 = 45\n",
            "5 x 10 = 50\n"
          ]
        }
      ],
      "source": [
        "Arre=[]\n",
        "print(\"Ingresa la tabla a Guardar: \")\n",
        "tabla=int(input())\n",
        "\n",
        "for i in range(0,10):\n",
        "  resultado=tabla*(i+1)\n",
        "  \n",
        "  Arre.append(resultado)\n",
        "\n",
        "  print(tabla ,\"x\", i+1, \"=\" ,Arre[i])"
      ]
    }
  ]
}